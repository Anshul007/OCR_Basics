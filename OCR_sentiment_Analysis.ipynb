{
 "cells": [
  {
   "cell_type": "code",
   "execution_count": 1,
   "id": "15d36aeb-3dc4-4454-bf4f-173ec991d21a",
   "metadata": {},
   "outputs": [],
   "source": [
    "import numpy as np\n",
    "import pandas as pd\n",
    "\n",
    "import cv2\n",
    "import os\n",
    "import pytesseract\n",
    "\n",
    "from sklearn.feature_extraction import text\n",
    "from sklearn.naive_bayes import MultinomialNB\n",
    "\n",
    "from datetime import datetime"
   ]
  },
  {
   "cell_type": "code",
   "execution_count": 2,
   "id": "964d6913-74cb-4c88-8234-64129e5f2044",
   "metadata": {},
   "outputs": [],
   "source": [
    "pytesseract.pytesseract.tesseract_cmd = r\"C:\\Program Files\\Tesseract-OCR\\tesseract.exe\""
   ]
  },
  {
   "cell_type": "code",
   "execution_count": 3,
   "id": "dff29ec5-c7ad-491c-8f66-23cb71da01dc",
   "metadata": {},
   "outputs": [],
   "source": [
    "# we have to read our image\n",
    "#img = cv2.imread(\"singh.jpg\")\n",
    "img = cv2.imread(\"3.png\")"
   ]
  },
  {
   "cell_type": "markdown",
   "id": "4fbadded-96d7-4b55-bd2d-1373659a5b40",
   "metadata": {},
   "source": [
    "<h3>Note:</h3> pytesseract only accept the <b>RGB</b> value. and OpenCV is in <b>BGR</b>. So we have to convert before sending to pytesseract library."
   ]
  },
  {
   "cell_type": "code",
   "execution_count": 4,
   "id": "190b46b2-4f1d-4454-b688-2b535398567a",
   "metadata": {},
   "outputs": [
    {
     "name": "stdout",
     "output_type": "stream",
     "text": [
      "Explain\n",
      "that\n",
      "Stuff!\n",
      "01234567890\n",
      "\f",
      "\n"
     ]
    }
   ],
   "source": [
    "img = cv2.cvtColor(img, cv2.COLOR_BGR2RGB)\n",
    "cv2.imshow(\"Results\", img)\n",
    "\n",
    "print(pytesseract.image_to_string(img))"
   ]
  },
  {
   "cell_type": "code",
   "execution_count": 10,
   "id": "fa94a5c6-ceb4-420c-a752-5ac77e4bf8e9",
   "metadata": {
    "collapsed": true,
    "jupyter": {
     "outputs_hidden": true
    },
    "tags": []
   },
   "outputs": [
    {
     "name": "stdout",
     "output_type": "stream",
     "text": [
      "E 56 146 73 173 0\n",
      "x 82 146 99 166 0\n",
      "p 108 139 125 167 0\n",
      "l 136 146 150 173 0\n",
      "a 160 146 176 166 0\n",
      "i 188 146 202 175 0\n",
      "n 212 146 229 166 0\n",
      "t 95 100 112 126 0\n",
      "h 121 100 138 127 0\n",
      "a 147 100 164 120 0\n",
      "t 173 100 190 126 0\n",
      "S 69 54 86 81 0\n",
      "t 95 54 112 80 0\n",
      "u 121 54 138 74 0\n",
      "f 148 54 163 81 0\n",
      "f 174 54 189 81 0\n",
      "! 205 54 210 81 0\n",
      "O 4 7 22 35 0\n",
      "U 30 7 48 35 0\n",
      "B 56 7 74 35 0\n",
      "S 82 7 99 35 0\n",
      "4 109 7 125 35 0\n",
      "5 133 7 151 35 0\n",
      "b 160 7 178 35 0\n",
      "r 186 7 204 35 0\n",
      "? 196 7 211 35 0\n",
      "s 212 7 230 35 0\n",
      "s 238 7 256 35 0\n",
      "o 256 7 270 35 0\n",
      "0 264 7 282 35 0\n",
      "\n"
     ]
    }
   ],
   "source": [
    "print(pytesseract.image_to_boxes(img))"
   ]
  },
  {
   "cell_type": "code",
   "execution_count": 6,
   "id": "06a639e4-23de-49f1-9f8a-61ad3da6f97a",
   "metadata": {},
   "outputs": [],
   "source": [
    "h_img, w_img, _ = img.shape\n",
    "\n",
    "# configuration to show only digits\n",
    "confg = r'--oem 3 --psm 6 outputbase digits'"
   ]
  },
  {
   "cell_type": "markdown",
   "id": "e7687f5f-f81b-47a1-b7a1-1fb130a34049",
   "metadata": {},
   "source": [
    "## Detecting Character by Character"
   ]
  },
  {
   "cell_type": "code",
   "execution_count": null,
   "id": "83d3a47d-62b7-4f21-a6d3-2d9988fb5696",
   "metadata": {},
   "outputs": [],
   "source": [
    "C_boxes = pytesseract.image_to_boxes(img)\n",
    "\n",
    "for line in C_boxes.splitlines():\n",
    "    #print(b) # this is still not in list, so we'll concert using split function.\n",
    "    line = line.split(\" \") # this will convert into list, on the basis of spaces\n",
    "    #print(b)\n",
    "    x,y,w,h = int(line[1]),int(line[2]),int(line[3]),int(line[4])\n",
    "    cv2.rectangle(img, (x,h_img-y), (w,h_img-h), (0,0,255), 1) # to get each of the boxes seperatly\n",
    "    cv2.putText(img, line[0], (x,h_img-y+25), cv2.FONT_HERSHEY_COMPLEX, 1, (100,100,255), 2)\n",
    "    \n",
    "cv2.imshow('Character by Character', img)\n",
    "cv2.waitKey(0)"
   ]
  },
  {
   "cell_type": "markdown",
   "id": "97892cb5-147d-491c-a782-a1afdcd401d6",
   "metadata": {},
   "source": [
    "## Detecting Words instead of Character"
   ]
  },
  {
   "cell_type": "code",
   "execution_count": null,
   "id": "9987f748-8c93-4e19-997b-270efb699796",
   "metadata": {
    "tags": []
   },
   "outputs": [],
   "source": [
    "W_boxes = pytesseract.image_to_data(img)\n",
    "print(W_boxes) # checking what n all values are there to customize the for loop\n",
    "\n",
    "#now = datetime.now()\n",
    "#current_time = now.strftime(\"%H:%M:%S\")\n",
    "\n",
    "for counter, line in enumerate(W_boxes.splitlines()):\n",
    "    if counter != 0: # ignoring the first line, because it is containing the headings\n",
    "        line = line.split() # this will convert into list, on the basis of spaces\n",
    "        print(line)\n",
    "        if len(line) == 12:\n",
    "            x,y,w,h = int(line[6]),int(line[7]),int(line[8]),int(line[9])\n",
    "            cv2.rectangle(img, (x,y), (w+x,h+y), (0,0,255), 1)\n",
    "            cv2.putText(img, line[11], (x,y+25), cv2.FONT_HERSHEY_COMPLEX, 1, (100,100,255), 2)\n",
    "            \n",
    "cv2.imshow('Words by Words', img)\n",
    "cv2.waitKey(0)"
   ]
  },
  {
   "cell_type": "markdown",
   "id": "f6133a28-606e-459e-a3f2-a35fcb4a99f2",
   "metadata": {},
   "source": [
    "## Detecting only digits i.e. skipping characters"
   ]
  },
  {
   "cell_type": "markdown",
   "id": "bc75b8f9-69f5-47b5-bcf9-a9caf02e1ff1",
   "metadata": {},
   "source": [
    "### printing word wise"
   ]
  },
  {
   "cell_type": "code",
   "execution_count": null,
   "id": "87cb35e0-db55-41f5-994f-56f5cedd2ae0",
   "metadata": {},
   "outputs": [],
   "source": [
    "W_boxes = pytesseract.image_to_data(img, config= confg)\n",
    "print(W_boxes) # checking what n all values are there to customize the for loop\n",
    "\n",
    "for counter, line in enumerate(W_boxes.splitlines()):\n",
    "    if counter != 0: # ignoring the first line, because it is containing the headings\n",
    "        line = line.split() # this will convert into list, on the basis of spaces\n",
    "        print(line)\n",
    "        if len(line) == 12:\n",
    "            x,y,w,h = int(line[6]),int(line[7]),int(line[8]),int(line[9])\n",
    "            cv2.rectangle(img, (x,y), (w+x,h+y), (0,0,255), 1)\n",
    "            cv2.putText(img, line[11], (x,y+25), cv2.FONT_HERSHEY_COMPLEX, 1, (100,100,255), 2)\n",
    "            \n",
    "cv2.imshow('Only digits in words', img)\n",
    "cv2.waitKey(0)"
   ]
  },
  {
   "cell_type": "markdown",
   "id": "a939381f-43ae-4714-9eaa-5b3502fe5448",
   "metadata": {},
   "source": [
    "### printing character wise"
   ]
  },
  {
   "cell_type": "code",
   "execution_count": 8,
   "id": "f8036ee9-f980-41f4-9784-752b691c28b0",
   "metadata": {},
   "outputs": [
    {
     "data": {
      "text/plain": [
       "-1"
      ]
     },
     "execution_count": 8,
     "metadata": {},
     "output_type": "execute_result"
    }
   ],
   "source": [
    "C_boxes = pytesseract.image_to_boxes(img, config= confg)\n",
    "\n",
    "for line in C_boxes.splitlines():\n",
    "    #print(b) # this is still not in list, so we'll concert using split function.\n",
    "    line = line.split(\" \") # this will convert into list, on the basis of spaces\n",
    "    #print(b)\n",
    "    x,y,w,h = int(line[1]),int(line[2]),int(line[3]),int(line[4])\n",
    "    cv2.rectangle(img, (x,h_img-y), (w,h_img-h), (0,0,255), 1) # to get each of the boxes seperatly\n",
    "    cv2.putText(img, line[0], (x,h_img-y+25), cv2.FONT_HERSHEY_COMPLEX, 1, (100,100,255), 2)\n",
    "    \n",
    "cv2.imshow('Character by Character', img)\n",
    "cv2.waitKey(0)"
   ]
  },
  {
   "cell_type": "code",
   "execution_count": null,
   "id": "de18f2f8-00b1-499c-a3b6-57887d21fdef",
   "metadata": {},
   "outputs": [],
   "source": []
  }
 ],
 "metadata": {
  "kernelspec": {
   "display_name": "Python 3",
   "language": "python",
   "name": "python3"
  },
  "language_info": {
   "codemirror_mode": {
    "name": "ipython",
    "version": 3
   },
   "file_extension": ".py",
   "mimetype": "text/x-python",
   "name": "python",
   "nbconvert_exporter": "python",
   "pygments_lexer": "ipython3",
   "version": "3.8.8"
  }
 },
 "nbformat": 4,
 "nbformat_minor": 5
}
